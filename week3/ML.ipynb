{
 "cells": [
  {
   "cell_type": "markdown",
   "id": "1faf5224-a1a8-4b91-bb3c-3d362252440b",
   "metadata": {},
   "source": [
    "### 특성공학(기초)과 규제"
   ]
  },
  {
   "cell_type": "markdown",
   "id": "f5493910-025a-451d-81fe-8ed8899d07a8",
   "metadata": {},
   "source": [
    "##### 아직도 훈련스코어(세트)보다 테스트스코어가 더 높다\n",
    "##### 단순 제곱보다 더 고차항을 넣어야 할 거같은데 얼만큼 더 고차항을 넣어야할지 모르겠고, 수동으로 차항을 늘리는게 복잡하다."
   ]
  },
  {
   "cell_type": "code",
   "execution_count": 1,
   "id": "78d7a79e-dcb1-4bde-b436-af63e07406ab",
   "metadata": {},
   "outputs": [
    {
     "name": "stdout",
     "output_type": "stream",
     "text": [
      "[8.4  2.11 1.41]\n"
     ]
    }
   ],
   "source": [
    "# 판다스 임포트\n",
    "import pandas as pd\n",
    "# 데이터셋 준비\n",
    "df = pd.read_csv('https://bit.ly/perch_csv_data')\n",
    "perch_full = df.to_numpy()\n",
    "print(perch_full[0])"
   ]
  },
  {
   "cell_type": "code",
   "execution_count": 2,
   "id": "cdea28e2-ecb9-4776-8d06-5408f15b6141",
   "metadata": {},
   "outputs": [
    {
     "data": {
      "text/html": [
       "<div>\n",
       "<style scoped>\n",
       "    .dataframe tbody tr th:only-of-type {\n",
       "        vertical-align: middle;\n",
       "    }\n",
       "\n",
       "    .dataframe tbody tr th {\n",
       "        vertical-align: top;\n",
       "    }\n",
       "\n",
       "    .dataframe thead th {\n",
       "        text-align: right;\n",
       "    }\n",
       "</style>\n",
       "<table border=\"1\" class=\"dataframe\">\n",
       "  <thead>\n",
       "    <tr style=\"text-align: right;\">\n",
       "      <th></th>\n",
       "      <th>length</th>\n",
       "      <th>height</th>\n",
       "      <th>width</th>\n",
       "    </tr>\n",
       "  </thead>\n",
       "  <tbody>\n",
       "    <tr>\n",
       "      <th>0</th>\n",
       "      <td>8.4</td>\n",
       "      <td>2.11</td>\n",
       "      <td>1.41</td>\n",
       "    </tr>\n",
       "    <tr>\n",
       "      <th>1</th>\n",
       "      <td>13.7</td>\n",
       "      <td>3.53</td>\n",
       "      <td>2.00</td>\n",
       "    </tr>\n",
       "    <tr>\n",
       "      <th>2</th>\n",
       "      <td>15.0</td>\n",
       "      <td>3.82</td>\n",
       "      <td>2.43</td>\n",
       "    </tr>\n",
       "  </tbody>\n",
       "</table>\n",
       "</div>"
      ],
      "text/plain": [
       "   length   height   width\n",
       "0     8.4     2.11    1.41\n",
       "1    13.7     3.53    2.00\n",
       "2    15.0     3.82    2.43"
      ]
     },
     "execution_count": 2,
     "metadata": {},
     "output_type": "execute_result"
    }
   ],
   "source": [
    "# 독립특성\n",
    "df.head(3)"
   ]
  },
  {
   "cell_type": "code",
   "execution_count": 3,
   "id": "ba686af5-b7b9-4fdd-bb26-839f7815b5a5",
   "metadata": {},
   "outputs": [],
   "source": [
    "# 종속특성\n",
    "import numpy as np\n",
    "\n",
    "perch_weight = np.array(\n",
    "    [5.9, 32.0, 40.0, 51.5, 70.0, 100.0, 78.0, 80.0, 85.0, 85.0, \n",
    "     110.0, 115.0, 125.0, 130.0, 120.0, 120.0, 130.0, 135.0, 110.0, \n",
    "     130.0, 150.0, 145.0, 150.0, 170.0, 225.0, 145.0, 188.0, 180.0, \n",
    "     197.0, 218.0, 300.0, 260.0, 265.0, 250.0, 250.0, 300.0, 320.0, \n",
    "     514.0, 556.0, 840.0, 685.0, 700.0, 700.0, 690.0, 900.0, 650.0, \n",
    "     820.0, 850.0, 900.0, 1015.0, 820.0, 1100.0, 1000.0, 1100.0, \n",
    "     1000.0, 1000.0]\n",
    "     )"
   ]
  },
  {
   "cell_type": "code",
   "execution_count": 4,
   "id": "55540495-5cd1-46d2-83ae-bb2eee617b2d",
   "metadata": {},
   "outputs": [],
   "source": [
    "# 데이터 스플릿\n",
    "from sklearn.model_selection import train_test_split \n",
    "\n",
    "\n",
    "train_input, test_input, train_target, test_target = train_test_split(\n",
    "    perch_full, perch_weight, random_state=42)"
   ]
  },
  {
   "cell_type": "code",
   "execution_count": 5,
   "id": "69762f53-b517-4bd1-b176-da42da9d47f1",
   "metadata": {},
   "outputs": [],
   "source": [
    "### 사이킷런의 변환기\n",
    "# 폴리노미얼피쳐스 임포트  -> 다차항 특성\n",
    "from sklearn.preprocessing import PolynomialFeatures"
   ]
  },
  {
   "cell_type": "code",
   "execution_count": 6,
   "id": "b0f8838b-fe89-4fe4-944a-b5bd18892b37",
   "metadata": {},
   "outputs": [
    {
     "name": "stdout",
     "output_type": "stream",
     "text": [
      "[[1. 2. 3. 4. 6. 9.]]\n"
     ]
    }
   ],
   "source": [
    "# 폴리 예시코드\n",
    "poly = PolynomialFeatures()\n",
    "poly.fit([[2, 3]])\n",
    "print(poly.transform([[2, 3]]))"
   ]
  },
  {
   "cell_type": "code",
   "execution_count": 7,
   "id": "61d1ffde-0034-4f5a-a4b3-efe4bd9090cd",
   "metadata": {},
   "outputs": [
    {
     "name": "stdout",
     "output_type": "stream",
     "text": [
      "[ 19.6      5.14     3.04   384.16   100.744   59.584   26.4196  15.6256\n",
      "   9.2416]\n"
     ]
    }
   ],
   "source": [
    "# train_input 데이터셋에 폴리 적용\n",
    "poly = PolynomialFeatures(include_bias=False)\n",
    "poly.fit(train_input)\n",
    "train_poly = poly.transform(train_input)\n",
    "print(train_poly[0])"
   ]
  },
  {
   "cell_type": "code",
   "execution_count": 8,
   "id": "706d5171-fad5-472e-abd1-e66f689422ba",
   "metadata": {},
   "outputs": [
    {
     "data": {
      "text/plain": [
       "array(['x0', 'x1', 'x2', 'x0^2', 'x0 x1', 'x0 x2', 'x1^2', 'x1 x2',\n",
       "       'x2^2'], dtype=object)"
      ]
     },
     "execution_count": 8,
     "metadata": {},
     "output_type": "execute_result"
    }
   ],
   "source": [
    "# poly의 계산식\n",
    "poly.get_feature_names_out()"
   ]
  },
  {
   "cell_type": "code",
   "execution_count": 9,
   "id": "89344e44-8ab7-4120-a63e-487cf0e2c3b8",
   "metadata": {},
   "outputs": [
    {
     "data": {
      "text/plain": [
       "(14, 9)"
      ]
     },
     "execution_count": 9,
     "metadata": {},
     "output_type": "execute_result"
    }
   ],
   "source": [
    "# 테스트셋에 적용\n",
    "test_poly = poly.transform(test_input)\n",
    "test_poly.shape"
   ]
  },
  {
   "cell_type": "code",
   "execution_count": 10,
   "id": "76f6d5cd-447e-4f74-9186-3771ec6dc350",
   "metadata": {},
   "outputs": [
    {
     "data": {
      "text/plain": [
       "(42, 9)"
      ]
     },
     "execution_count": 10,
     "metadata": {},
     "output_type": "execute_result"
    }
   ],
   "source": [
    "train_poly.shape"
   ]
  },
  {
   "cell_type": "code",
   "execution_count": 11,
   "id": "7b6de47b-5391-4cb5-b004-66ddab595870",
   "metadata": {},
   "outputs": [
    {
     "name": "stdout",
     "output_type": "stream",
     "text": [
      "0.9903183436982124\n"
     ]
    }
   ],
   "source": [
    "### 다중회귀 모델 학습시키기\n",
    "# 다중회귀는 선형회귀와 모델이 같다(차원, 즉, 특성만 늘어날 뿐이다)\n",
    "from sklearn.linear_model import LinearRegression\n",
    "\n",
    "lr = LinearRegression()\n",
    "lr.fit(train_poly, train_target)\n",
    "# 학습스코어 출력\n",
    "print(lr.score(train_poly, train_target))"
   ]
  },
  {
   "cell_type": "code",
   "execution_count": 12,
   "id": "9ef4daa5-05a3-444b-9da1-75e5cd5abbdb",
   "metadata": {},
   "outputs": [
    {
     "name": "stdout",
     "output_type": "stream",
     "text": [
      "0.9714559911594203\n"
     ]
    }
   ],
   "source": [
    "# 테스트 스코어 출력\n",
    "print(lr.score(test_poly, test_target))"
   ]
  },
  {
   "cell_type": "code",
   "execution_count": 13,
   "id": "05b91e5b-88b0-4738-901f-8815a8d40073",
   "metadata": {},
   "outputs": [],
   "source": [
    "## 특성항을 5제곱까지 늘려보자\n",
    "poly = PolynomialFeatures(degree=5, include_bias=False)\n",
    "poly.fit(train_input)\n",
    "train_poly = poly.transform(train_input)\n",
    "test_poly = poly.transform(test_input)"
   ]
  },
  {
   "cell_type": "code",
   "execution_count": 14,
   "id": "558ab61a-d913-4cc2-aa8a-3dbded7e49f4",
   "metadata": {},
   "outputs": [
    {
     "name": "stdout",
     "output_type": "stream",
     "text": [
      "(42, 55)\n"
     ]
    }
   ],
   "source": [
    "# 인풋특성 형태확인\n",
    "print(train_poly.shape)"
   ]
  },
  {
   "cell_type": "code",
   "execution_count": 15,
   "id": "5c3431eb-9b94-4118-8178-fd84d441caa8",
   "metadata": {},
   "outputs": [
    {
     "name": "stdout",
     "output_type": "stream",
     "text": [
      "0.999999999997515\n"
     ]
    }
   ],
   "source": [
    "# 모델 학습\n",
    "lr.fit(train_poly, train_target)\n",
    "print(lr.score(train_poly, train_target))"
   ]
  },
  {
   "cell_type": "code",
   "execution_count": 16,
   "id": "335f7804-9e7a-44d6-b1f2-e83bf2d3fa6a",
   "metadata": {},
   "outputs": [
    {
     "name": "stdout",
     "output_type": "stream",
     "text": [
      "-144.40196592191958\n"
     ]
    }
   ],
   "source": [
    "print(lr.score(test_poly, test_target))"
   ]
  },
  {
   "cell_type": "code",
   "execution_count": 17,
   "id": "543eec28-9d33-429c-8d9b-4e2661043807",
   "metadata": {},
   "outputs": [],
   "source": [
    "### 규제\n",
    "#### 릿지와 라쏘\n",
    "## 라쏘 = L1규제를 적용한 모델\n",
    "## 릿지 = L2규제를 적용한 모델\n",
    "# 두 방법 다, 회귀식의 기울기를 조절하여 특성 가중값을 조절함\n",
    "# 릿지는 기울기에 제곱을 기준으로, 라쏘는 기울기에 절대값(루트제곱)을 기준으로 적용됨\n",
    "# 라쏘는 해당 특성을 아에 0으로 만들어버림"
   ]
  },
  {
   "cell_type": "code",
   "execution_count": 18,
   "id": "6fc48ca7-91f5-44d2-af2d-84d86660915d",
   "metadata": {},
   "outputs": [
    {
     "data": {
      "text/plain": [
       "array([1.96000000e+01, 5.14000000e+00, 3.04000000e+00, 3.84160000e+02,\n",
       "       1.00744000e+02, 5.95840000e+01, 2.64196000e+01, 1.56256000e+01,\n",
       "       9.24160000e+00, 7.52953600e+03, 1.97458240e+03, 1.16784640e+03,\n",
       "       5.17824160e+02, 3.06261760e+02, 1.81135360e+02, 1.35796744e+02,\n",
       "       8.03155840e+01, 4.75018240e+01, 2.80944640e+01, 1.47578906e+05,\n",
       "       3.87018150e+04, 2.28897894e+04, 1.01493535e+04, 6.00273050e+03,\n",
       "       3.55025306e+03, 2.66161618e+03, 1.57418545e+03, 9.31035750e+02,\n",
       "       5.50651494e+02, 6.97995264e+02, 4.12822102e+02, 2.44159375e+02,\n",
       "       1.44405545e+02, 8.54071706e+01, 2.89254655e+06, 7.58555575e+05,\n",
       "       4.48639873e+05, 1.98927329e+05, 1.17653518e+05, 6.95849599e+04,\n",
       "       5.21676772e+04, 3.08540347e+04, 1.82483007e+04, 1.07927693e+04,\n",
       "       1.36807072e+04, 8.09131319e+03, 4.78552376e+03, 2.83034868e+03,\n",
       "       1.67398054e+03, 3.58769566e+03, 2.12190560e+03, 1.25497919e+03,\n",
       "       7.42244501e+02, 4.38992857e+02, 2.59637799e+02])"
      ]
     },
     "execution_count": 18,
     "metadata": {},
     "output_type": "execute_result"
    }
   ],
   "source": [
    "train_poly[0]"
   ]
  },
  {
   "cell_type": "code",
   "execution_count": 19,
   "id": "e41be383-842c-4c14-ad1c-56fafae006ac",
   "metadata": {},
   "outputs": [
    {
     "name": "stdout",
     "output_type": "stream",
     "text": [
      "[-1.01339619 -1.01007487 -1.01952321 -0.9549757  -0.9496784  -0.95745849\n",
      " -0.93942079 -0.94342509 -0.94100107 -0.88757122 -0.88399964 -0.89100599\n",
      " -0.87785292 -0.88311456 -0.88430909 -0.8691891  -0.87259422 -0.87147928\n",
      " -0.86603533 -0.82233944 -0.82171953 -0.8280588  -0.81928269 -0.82512549\n",
      " -0.8278857  -0.81486775 -0.82006923 -0.82177279 -0.82010716 -0.80835934\n",
      " -0.81274154 -0.81321125 -0.8098514  -0.80275974 -0.7637909  -0.76597773\n",
      " -0.77150714 -0.76668667 -0.77246614 -0.77577893 -0.76571689 -0.77162398\n",
      " -0.77472752 -0.77517751 -0.76290623 -0.76877311 -0.77148634 -0.77113383\n",
      " -0.767785   -0.75814062 -0.76376113 -0.76586966 -0.76449499 -0.75967179\n",
      " -0.75143746]\n"
     ]
    }
   ],
   "source": [
    "# 특성 스케일링\n",
    "from sklearn.preprocessing import StandardScaler\n",
    "\n",
    "ss = StandardScaler()\n",
    "ss.fit(train_poly)\n",
    "train_scaled = ss.transform(train_poly)\n",
    "test_scaled = ss.transform(test_poly)\n",
    "print(train_scaled[0])"
   ]
  },
  {
   "cell_type": "code",
   "execution_count": 20,
   "id": "060c407e-efa7-41f5-be19-86492d8e75cb",
   "metadata": {},
   "outputs": [
    {
     "name": "stdout",
     "output_type": "stream",
     "text": [
      "0.9896101671037343\n"
     ]
    }
   ],
   "source": [
    "# 릿지 모델 사용(선형회귀 모델에 L2규제 적용)\n",
    "from sklearn.linear_model import Ridge\n",
    "ridge = Ridge()\n",
    "ridge.fit(train_scaled, train_target)\n",
    "print(ridge.score(train_scaled, train_target))"
   ]
  },
  {
   "cell_type": "code",
   "execution_count": 21,
   "id": "255817d9-ad14-48e3-88bd-8c8d0f7414ec",
   "metadata": {},
   "outputs": [
    {
     "name": "stdout",
     "output_type": "stream",
     "text": [
      "0.9790693977615386\n"
     ]
    }
   ],
   "source": [
    "print(ridge.score(test_scaled, test_target))"
   ]
  },
  {
   "cell_type": "code",
   "execution_count": 22,
   "id": "5971f2c5-63ab-4f9d-b780-47ba8d05085a",
   "metadata": {},
   "outputs": [],
   "source": [
    "# 규제의 강도\n",
    "# 릿지 모델을 만들 때 규제의 정도를 알파값으로 조절할 수 있음(하이퍼 파라미터)\n",
    "# 적절한 alpha값을 찾아보자\n",
    "import matplotlib.pyplot as plt\n",
    "\n",
    "# 학습점수와 테스트점수를 저장할 리스트 선언\n",
    "train_score = []\n",
    "test_score = []"
   ]
  },
  {
   "cell_type": "code",
   "execution_count": 23,
   "id": "8b705b77-3d31-44eb-b4e8-990631fe069f",
   "metadata": {},
   "outputs": [],
   "source": [
    "alpha_list = [0.001, 0.01, 0.1, 1, 10, 100]\n",
    "for alpha in alpha_list:\n",
    "    # 릿지 모델 객체 생성\n",
    "    ridge = Ridge(alpha=alpha)\n",
    "    # 릿지 모델 훈련\n",
    "    ridge.fit(train_scaled, train_target)\n",
    "    # 빈 리스트에 훈련점수와 테스트 점수 저장\n",
    "    train_score.append(ridge.score(train_scaled, train_target))\n",
    "    test_score.append(ridge.score(test_scaled, test_target))"
   ]
  },
  {
   "cell_type": "code",
   "execution_count": 24,
   "id": "2538f641-6af0-4852-bb2b-407c0eab69b2",
   "metadata": {},
   "outputs": [
    {
     "data": {
      "image/png": "[encoded data removed]",
      "text/plain": [
       "<Figure size 640x480 with 1 Axes>"
      ]
     },
     "metadata": {},
     "output_type": "display_data"
    }
   ],
   "source": [
    "# 트레인점수, 테스트점수 시각화\n",
    "plt.plot(np.log10(alpha_list), train_score, label='Train Set')\n",
    "plt.plot(np.log10(alpha_list), test_score, label='Test Set')\n",
    "plt.xlabel('alpha')\n",
    "plt.ylabel('R^2')\n",
    "plt.legend()\n",
    "plt.show()"
   ]
  },
  {
   "cell_type": "code",
   "execution_count": 25,
   "id": "02cd2728-86b7-4cd6-a147-e8e5a42cc039",
   "metadata": {},
   "outputs": [
    {
     "name": "stdout",
     "output_type": "stream",
     "text": [
      "0.9903815817570367\n",
      "0.9827976465386894\n"
     ]
    }
   ],
   "source": [
    "# 찾은 적절한 규제값으로 모델을 다시 훈련\n",
    "ridge = Ridge(alpha=0.1)\n",
    "ridge.fit(train_scaled, train_target)\n",
    "print(ridge.score(train_scaled, train_target))\n",
    "print(ridge.score(test_scaled, test_target))"
   ]
  },
  {
   "cell_type": "code",
   "execution_count": null,
   "id": "b6be73d5-d48e-4508-832d-b740fd42e788",
   "metadata": {},
   "outputs": [],
   "source": []
  }
 ],
 "metadata": {
  "kernelspec": {
   "display_name": "Python 3 (ipykernel)",
   "language": "python",
   "name": "python3"
  },
  "language_info": {
   "codemirror_mode": {
    "name": "ipython",
    "version": 3
   },
   "file_extension": ".py",
   "mimetype": "text/x-python",
   "name": "python",
   "nbconvert_exporter": "python",
   "pygments_lexer": "ipython3",
   "version": "3.11.7"
  }
 },
 "nbformat": 4,
 "nbformat_minor": 5
}
