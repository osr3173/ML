{
 "cells": [
  {
   "cell_type": "code",
   "execution_count": 164,
   "metadata": {},
   "outputs": [],
   "source": [
    "import pandas as pd\n",
    "import numpy as np\n",
    "\n",
    "mpg=pd.read_csv('auto-mpg.csv')"
   ]
  },
  {
   "cell_type": "code",
   "execution_count": 165,
   "metadata": {},
   "outputs": [],
   "source": [
    "mpg.columns = ['연비','실린더 수','배기량','출력','차중',\n",
    "              '가속능력','출시년도','제조국','모델명']"
   ]
  },
  {
   "cell_type": "code",
   "execution_count": 166,
   "metadata": {},
   "outputs": [
    {
     "data": {
      "text/plain": [
       "6"
      ]
     },
     "execution_count": 166,
     "metadata": {},
     "output_type": "execute_result"
    }
   ],
   "source": [
    "(mpg['출력'] == '?').sum()"
   ]
  },
  {
   "cell_type": "code",
   "execution_count": 167,
   "metadata": {},
   "outputs": [],
   "source": [
    "mpg.replace('?',np.nan,inplace=True)"
   ]
  },
  {
   "cell_type": "code",
   "execution_count": 168,
   "metadata": {},
   "outputs": [
    {
     "data": {
      "text/plain": [
       "연비       0\n",
       "실린더 수    0\n",
       "배기량      0\n",
       "출력       0\n",
       "차중       0\n",
       "가속능력     0\n",
       "출시년도     0\n",
       "제조국      0\n",
       "모델명      0\n",
       "dtype: int64"
      ]
     },
     "execution_count": 168,
     "metadata": {},
     "output_type": "execute_result"
    }
   ],
   "source": [
    "(mpg == '?').sum()"
   ]
  },
  {
   "cell_type": "code",
   "execution_count": 169,
   "metadata": {},
   "outputs": [],
   "source": [
    "mpg['출력'] = mpg['출력'].astype(float)\n",
    "mpg['출력'].fillna(mpg['출력'].mean(), inplace=True)"
   ]
  },
  {
   "cell_type": "code",
   "execution_count": 170,
   "metadata": {},
   "outputs": [],
   "source": [
    "mpg.drop(columns=['모델명'],inplace=True)"
   ]
  },
  {
   "cell_type": "code",
   "execution_count": 171,
   "metadata": {},
   "outputs": [
    {
     "data": {
      "text/plain": [
       "array([1, 3, 2], dtype=int64)"
      ]
     },
     "execution_count": 171,
     "metadata": {},
     "output_type": "execute_result"
    }
   ],
   "source": [
    "# 제조국은 1,2,3 의 범주형 데이터로 구성\n",
    "\n",
    "import pandas as pd\n",
    "pd.unique(mpg[\"제조국\"])"
   ]
  },
  {
   "cell_type": "code",
   "execution_count": 172,
   "metadata": {},
   "outputs": [],
   "source": [
    "data=mpg[['연비','실린더 수','배기량','출력','차중',\n",
    "              '가속능력','출시년도']].values\n",
    "target=mpg['제조국'].values"
   ]
  },
  {
   "cell_type": "code",
   "execution_count": 173,
   "metadata": {},
   "outputs": [],
   "source": [
    "# Test_split\n",
    "from sklearn.model_selection import train_test_split\n",
    "\n",
    "train_input, test_input, train_target, test_target = train_test_split(\n",
    "    data, target, test_size=0.2, random_state=42)"
   ]
  },
  {
   "cell_type": "code",
   "execution_count": 174,
   "metadata": {},
   "outputs": [
    {
     "name": "stdout",
     "output_type": "stream",
     "text": [
      "1.0\n",
      "0.8125\n"
     ]
    }
   ],
   "source": [
    "from sklearn.tree import DecisionTreeClassifier\n",
    "\n",
    "dt=DecisionTreeClassifier(random_state=42)\n",
    "dt.fit(train_input,train_target)\n",
    "print(dt.score(train_input,train_target))\n",
    "print(dt.score(test_input,test_target))"
   ]
  },
  {
   "cell_type": "code",
   "execution_count": 175,
   "metadata": {},
   "outputs": [
    {
     "name": "stdout",
     "output_type": "stream",
     "text": [
      "0.8264984227129337\n",
      "0.7375\n"
     ]
    }
   ],
   "source": [
    "# max_depth = 3 으로 모델 학습\n",
    "dt=DecisionTreeClassifier(max_depth=3,random_state=42)\n",
    "dt.fit(train_input,train_target)\n",
    "print(dt.score(train_input,train_target))\n",
    "print(dt.score(test_input,test_target))"
   ]
  },
  {
   "cell_type": "code",
   "execution_count": 176,
   "metadata": {},
   "outputs": [
    {
     "name": "stdout",
     "output_type": "stream",
     "text": [
      "0.9463722397476341\n",
      "0.8375\n"
     ]
    }
   ],
   "source": [
    "# 불순도 10배수\n",
    "dt=DecisionTreeClassifier(min_impurity_decrease=0.005,random_state=42)\n",
    "dt.fit(train_input,train_target)\n",
    "print(dt.score(train_input,train_target))\n",
    "print(dt.score(test_input,test_target))"
   ]
  },
  {
   "cell_type": "markdown",
   "metadata": {},
   "source": [
    "### 검증셋"
   ]
  },
  {
   "cell_type": "code",
   "execution_count": 177,
   "metadata": {},
   "outputs": [],
   "source": [
    "sub_input, val_input, sub_target, val_target = train_test_split(\n",
    "    train_input,train_target,test_size=0.2,random_state=42)"
   ]
  },
  {
   "cell_type": "code",
   "execution_count": 178,
   "metadata": {},
   "outputs": [
    {
     "name": "stdout",
     "output_type": "stream",
     "text": [
      "(253, 7) (64, 7) (80, 7)\n"
     ]
    }
   ],
   "source": [
    "print(sub_input.shape,val_input.shape,test_input.shape)"
   ]
  },
  {
   "cell_type": "markdown",
   "metadata": {},
   "source": [
    "### Tree 성능"
   ]
  },
  {
   "cell_type": "code",
   "execution_count": 179,
   "metadata": {},
   "outputs": [
    {
     "name": "stdout",
     "output_type": "stream",
     "text": [
      "1.0\n",
      "0.78125\n"
     ]
    }
   ],
   "source": [
    "from sklearn.tree import DecisionTreeClassifier\n",
    "\n",
    "# 모델학습\n",
    "dt=DecisionTreeClassifier(random_state=42)\n",
    "dt.fit(sub_input,sub_target)   \n",
    "\n",
    "# 훈련점수, 검증점수\n",
    "print(dt.score(sub_input,sub_target))  \n",
    "print(dt.score(val_input,val_target))"
   ]
  },
  {
   "cell_type": "code",
   "execution_count": 180,
   "metadata": {},
   "outputs": [
    {
     "name": "stdout",
     "output_type": "stream",
     "text": [
      "{'fit_time': array([0.        , 0.        , 0.        , 0.00866699, 0.        ]), 'score_time': array([0.00701141, 0.        , 0.        , 0.0018971 , 0.        ]), 'test_score': array([0.84375   , 0.796875  , 0.84126984, 0.80952381, 0.73015873])}\n"
     ]
    }
   ],
   "source": [
    "from sklearn.model_selection import cross_validate\n",
    "\n",
    "dt=DecisionTreeClassifier(random_state=42)\n",
    "scores=cross_validate(dt,train_input,train_target)\n",
    "print(scores)"
   ]
  },
  {
   "cell_type": "code",
   "execution_count": 181,
   "metadata": {},
   "outputs": [
    {
     "name": "stdout",
     "output_type": "stream",
     "text": [
      "0.8043154761904763\n"
     ]
    }
   ],
   "source": [
    "import numpy as np\n",
    "print(np.mean(scores['test_score']))"
   ]
  },
  {
   "cell_type": "code",
   "execution_count": 182,
   "metadata": {},
   "outputs": [
    {
     "name": "stdout",
     "output_type": "stream",
     "text": [
      "0.8043154761904763\n"
     ]
    }
   ],
   "source": [
    "# cross_validate 분류의 샘플링 편향 방지를 위한 stratified K-fold 이용\n",
    "from sklearn.model_selection import StratifiedKFold\n",
    "\n",
    "scores = cross_validate(dt,train_input,train_target,cv=StratifiedKFold())\n",
    "\n",
    "print(np.mean(scores['test_score']))"
   ]
  },
  {
   "cell_type": "code",
   "execution_count": 183,
   "metadata": {},
   "outputs": [
    {
     "name": "stdout",
     "output_type": "stream",
     "text": [
      "0.8204637096774194\n"
     ]
    }
   ],
   "source": [
    "# cv 핸들링\n",
    "splitter = StratifiedKFold(n_splits=10,shuffle=True,random_state=42)\n",
    "scores=cross_validate(dt,train_input,train_target,cv=splitter)\n",
    "print(np.mean(scores['test_score']))"
   ]
  },
  {
   "cell_type": "markdown",
   "metadata": {},
   "source": [
    "### XGBoost 성능"
   ]
  },
  {
   "cell_type": "code",
   "execution_count": 184,
   "metadata": {},
   "outputs": [],
   "source": [
    "from sklearn.model_selection import cross_validate\n",
    "from sklearn.ensemble import RandomForestClassifier"
   ]
  },
  {
   "cell_type": "code",
   "execution_count": 185,
   "metadata": {},
   "outputs": [
    {
     "name": "stdout",
     "output_type": "stream",
     "text": [
      "1.0 0.8169146825396826\n"
     ]
    }
   ],
   "source": [
    "rf=RandomForestClassifier(n_jobs=-1,random_state=42)\n",
    "scores=cross_validate(rf,train_input,train_target,\n",
    "                      return_train_score=True,n_jobs=-1)\n",
    "\n",
    "print(np.mean(scores['train_score']),np.mean(scores['test_score']))"
   ]
  },
  {
   "cell_type": "code",
   "execution_count": 186,
   "metadata": {},
   "outputs": [
    {
     "name": "stdout",
     "output_type": "stream",
     "text": [
      "[0.13639778 0.09430003 0.27999931 0.13392092 0.17481622 0.10997304\n",
      " 0.07059272]\n"
     ]
    }
   ],
   "source": [
    "# 훈련값 확인\n",
    "rf.fit(train_input,train_target)\n",
    "print(rf.feature_importances_)"
   ]
  },
  {
   "cell_type": "code",
   "execution_count": 187,
   "metadata": {},
   "outputs": [
    {
     "name": "stdout",
     "output_type": "stream",
     "text": [
      "0.8296529968454258\n"
     ]
    }
   ],
   "source": [
    "rf=RandomForestClassifier(oob_score=True,n_jobs=-1,random_state=42)\n",
    "rf.fit(train_input,train_target)\n",
    "print(rf.oob_score_)"
   ]
  },
  {
   "cell_type": "code",
   "execution_count": 188,
   "metadata": {},
   "outputs": [
    {
     "name": "stdout",
     "output_type": "stream",
     "text": [
      "1.0 0.8106150793650793\n"
     ]
    }
   ],
   "source": [
    "from sklearn.ensemble import ExtraTreesClassifier\n",
    "\n",
    "et=ExtraTreesClassifier(n_jobs=-1,random_state=42)\n",
    "scores=cross_validate(et,train_input,train_target,\n",
    "                      return_train_score=True,n_jobs=-1)\n",
    "\n",
    "print(np.mean(scores['train_score']),np.mean(scores['test_score']))"
   ]
  },
  {
   "cell_type": "code",
   "execution_count": 189,
   "metadata": {},
   "outputs": [
    {
     "name": "stdout",
     "output_type": "stream",
     "text": [
      "1.0 0.8421130952380951\n"
     ]
    }
   ],
   "source": [
    "from sklearn.ensemble import GradientBoostingClassifier\n",
    "\n",
    "gb=GradientBoostingClassifier(random_state=42)\n",
    "scores=cross_validate(gb,train_input,train_target,\n",
    "                      return_train_score=True,n_jobs=-1)\n",
    "\n",
    "print(np.mean(scores['train_score']),np.mean(scores['test_score']))"
   ]
  },
  {
   "cell_type": "code",
   "execution_count": 190,
   "metadata": {},
   "outputs": [
    {
     "name": "stdout",
     "output_type": "stream",
     "text": [
      "1.0 0.832688492063492\n"
     ]
    }
   ],
   "source": [
    "gb=GradientBoostingClassifier(n_estimators=500,learning_rate=0.2,random_state=42)\n",
    "scores=cross_validate(gb,train_input,train_target,\n",
    "                      return_train_score=True,n_jobs=-1)\n",
    "\n",
    "print(np.mean(scores['train_score']),np.mean(scores['test_score']))"
   ]
  },
  {
   "cell_type": "code",
   "execution_count": 191,
   "metadata": {},
   "outputs": [
    {
     "name": "stdout",
     "output_type": "stream",
     "text": [
      "1.0 0.8262896825396824\n"
     ]
    }
   ],
   "source": [
    "from sklearn.ensemble import HistGradientBoostingClassifier\n",
    "\n",
    "hgb=HistGradientBoostingClassifier(random_state=42)\n",
    "scores=cross_validate(hgb,train_input,train_target,\n",
    "                      return_train_score=True,n_jobs=-1)\n",
    "print(np.mean(scores['train_score']),np.mean(scores['test_score']))"
   ]
  },
  {
   "cell_type": "code",
   "execution_count": 192,
   "metadata": {},
   "outputs": [
    {
     "name": "stdout",
     "output_type": "stream",
     "text": [
      "[0.03154574 0.         0.47823344 0.09968454 0.07539432 0.1\n",
      " 0.0444795 ]\n"
     ]
    }
   ],
   "source": [
    "from sklearn.inspection import permutation_importance\n",
    "\n",
    "hgb.fit(train_input,train_target)\n",
    "result=permutation_importance(hgb,train_input,train_target,n_repeats=10,\n",
    "                              random_state=42,n_jobs=-1)\n",
    "print(result.importances_mean)"
   ]
  },
  {
   "cell_type": "code",
   "execution_count": 193,
   "metadata": {},
   "outputs": [
    {
     "data": {
      "text/plain": [
       "0.825"
      ]
     },
     "execution_count": 193,
     "metadata": {},
     "output_type": "execute_result"
    }
   ],
   "source": [
    "hgb.score(test_input,test_target)"
   ]
  },
  {
   "cell_type": "code",
   "execution_count": 194,
   "metadata": {},
   "outputs": [
    {
     "name": "stdout",
     "output_type": "stream",
     "text": [
      "Unique classes in target variable: [1 2 3]\n"
     ]
    }
   ],
   "source": [
    "# 0,1,2로 분류 되는데 1,2,3 으로 되어있어서 재맵핑\n",
    "\n",
    "import numpy as np\n",
    "\n",
    "unique_classes = np.unique(train_target)\n",
    "print(\"Unique classes in target variable:\", unique_classes)"
   ]
  },
  {
   "cell_type": "code",
   "execution_count": 195,
   "metadata": {},
   "outputs": [],
   "source": [
    "train_target = train_target - 1"
   ]
  },
  {
   "cell_type": "code",
   "execution_count": 196,
   "metadata": {},
   "outputs": [
    {
     "name": "stdout",
     "output_type": "stream",
     "text": [
      "1.0 0.8484623015873016\n"
     ]
    }
   ],
   "source": [
    "from xgboost import XGBClassifier\n",
    "\n",
    "xgb=XGBClassifier(tree_method='hist',random_state=42)\n",
    "scores=cross_validate(xgb,train_input,train_target,\n",
    "                      return_train_score=True,n_jobs=-1)\n",
    "\n",
    "print(np.mean(scores['train_score']),np.mean(scores['test_score']))"
   ]
  },
  {
   "cell_type": "markdown",
   "metadata": {},
   "source": [
    "### LightGBM 성능"
   ]
  },
  {
   "cell_type": "code",
   "execution_count": 197,
   "metadata": {},
   "outputs": [
    {
     "name": "stdout",
     "output_type": "stream",
     "text": [
      "1.0 0.832738095238095\n"
     ]
    }
   ],
   "source": [
    "from lightgbm import LGBMClassifier\n",
    "\n",
    "lgb=LGBMClassifier(random_state=42)\n",
    "scores=cross_validate(lgb,train_input,train_target,\n",
    "                      return_train_score=True,n_jobs=-1)\n",
    "\n",
    "print(np.mean(scores['train_score']),np.mean(scores['test_score']))"
   ]
  },
  {
   "cell_type": "markdown",
   "metadata": {},
   "source": [
    "##### Tree 모델 성능 : 0.8204637096774194\n",
    "##### XGBost의 모델 성능 : 0.8484623015873016\n",
    "##### LightGBM의 모델 성능 : 0.832738095238095"
   ]
  }
 ],
 "metadata": {
  "kernelspec": {
   "display_name": "base",
   "language": "python",
   "name": "python3"
  },
  "language_info": {
   "codemirror_mode": {
    "name": "ipython",
    "version": 3
   },
   "file_extension": ".py",
   "mimetype": "text/x-python",
   "name": "python",
   "nbconvert_exporter": "python",
   "pygments_lexer": "ipython3",
   "version": "3.11.7"
  }
 },
 "nbformat": 4,
 "nbformat_minor": 2
}
